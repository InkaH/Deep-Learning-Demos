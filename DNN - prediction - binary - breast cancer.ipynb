{
 "cells": [
  {
   "cell_type": "markdown",
   "metadata": {},
   "source": [
    "### From book Practical Machine Learning with Python"
   ]
  },
  {
   "cell_type": "code",
   "execution_count": 1,
   "metadata": {},
   "outputs": [
    {
     "name": "stderr",
     "output_type": "stream",
     "text": [
      "Using TensorFlow backend.\n"
     ]
    }
   ],
   "source": [
    "from sklearn.datasets import load_breast_cancer\n",
    "import numpy as np\n",
    "from keras.models import Sequential\n",
    "from keras.layers import Dense, Dropout\n",
    "    \n",
    "cancer = load_breast_cancer()\n",
    "\n",
    "X_train = cancer.data[:340]\n",
    "y_train = cancer.target[:340]\n",
    "X_test = cancer.data[340:]\n",
    "y_test = cancer.target[340:]"
   ]
  },
  {
   "cell_type": "code",
   "execution_count": 6,
   "metadata": {},
   "outputs": [
    {
     "name": "stdout",
     "output_type": "stream",
     "text": [
      "Epoch 1/20\n",
      "340/340 [==============================] - 1s 2ms/step - loss: 0.7423 - acc: 0.6500\n",
      "Epoch 2/20\n",
      "340/340 [==============================] - 0s 35us/step - loss: 0.4399 - acc: 0.8235\n",
      "Epoch 3/20\n",
      "340/340 [==============================] - 0s 29us/step - loss: 0.4994 - acc: 0.7794\n",
      "Epoch 4/20\n",
      "340/340 [==============================] - 0s 35us/step - loss: 0.4334 - acc: 0.8147\n",
      "Epoch 5/20\n",
      "340/340 [==============================] - 0s 32us/step - loss: 0.3731 - acc: 0.8588\n",
      "Epoch 6/20\n",
      "340/340 [==============================] - 0s 35us/step - loss: 0.3920 - acc: 0.8676\n",
      "Epoch 7/20\n",
      "340/340 [==============================] - 0s 29us/step - loss: 0.3939 - acc: 0.8441\n",
      "Epoch 8/20\n",
      "340/340 [==============================] - 0s 32us/step - loss: 0.3682 - acc: 0.8912\n",
      "Epoch 9/20\n",
      "340/340 [==============================] - 0s 32us/step - loss: 0.4160 - acc: 0.8588\n",
      "Epoch 10/20\n",
      "340/340 [==============================] - 0s 26us/step - loss: 0.4825 - acc: 0.8176\n",
      "Epoch 11/20\n",
      "340/340 [==============================] - 0s 35us/step - loss: 0.3692 - acc: 0.8676\n",
      "Epoch 12/20\n",
      "340/340 [==============================] - 0s 29us/step - loss: 0.3847 - acc: 0.8500\n",
      "Epoch 13/20\n",
      "340/340 [==============================] - 0s 29us/step - loss: 0.3088 - acc: 0.9059\n",
      "Epoch 14/20\n",
      "340/340 [==============================] - 0s 32us/step - loss: 0.3862 - acc: 0.8529\n",
      "Epoch 15/20\n",
      "340/340 [==============================] - 0s 32us/step - loss: 0.2949 - acc: 0.9059\n",
      "Epoch 16/20\n",
      "340/340 [==============================] - 0s 32us/step - loss: 0.3738 - acc: 0.8618\n",
      "Epoch 17/20\n",
      "340/340 [==============================] - 0s 32us/step - loss: 0.2435 - acc: 0.9088\n",
      "Epoch 18/20\n",
      "340/340 [==============================] - 0s 32us/step - loss: 0.3103 - acc: 0.8853\n",
      "Epoch 19/20\n",
      "340/340 [==============================] - 0s 32us/step - loss: 0.2294 - acc: 0.9000\n",
      "Epoch 20/20\n",
      "340/340 [==============================] - 0s 29us/step - loss: 0.2517 - acc: 0.9000\n"
     ]
    },
    {
     "data": {
      "text/plain": [
       "<keras.callbacks.History at 0x2bc4a665668>"
      ]
     },
     "execution_count": 6,
     "metadata": {},
     "output_type": "execute_result"
    }
   ],
   "source": [
    "model = Sequential()\n",
    "model.add(Dense(15, input_dim=30, activation='relu'))\n",
    "model.add(Dense(15, activation='relu'))\n",
    "model.add(Dense(15, activation='relu'))\n",
    "model.add(Dense(1, activation='sigmoid'))\n",
    "\n",
    "model.compile(loss='binary_crossentropy', optimizer='rmsprop', metrics=['accuracy'])\n",
    "\n",
    "model.fit(X_train, y_train,epochs=20, batch_size=50)"
   ]
  },
  {
   "cell_type": "code",
   "execution_count": 7,
   "metadata": {},
   "outputs": [
    {
     "name": "stdout",
     "output_type": "stream",
     "text": [
      "Accuracy: 0.9126637554585153\n",
      "              precision    recall  f1-score   support\n",
      "\n",
      "           0       0.81      0.84      0.82        55\n",
      "           1       0.95      0.94      0.94       174\n",
      "\n",
      "   micro avg       0.91      0.91      0.91       229\n",
      "   macro avg       0.88      0.89      0.88       229\n",
      "weighted avg       0.91      0.91      0.91       229\n",
      "\n"
     ]
    }
   ],
   "source": [
    "from sklearn import metrics\n",
    "\n",
    "predictions = model.predict_classes(X_test)\n",
    "print('Accuracy:', metrics.accuracy_score(y_true=y_test, y_pred=predictions))\n",
    "print(metrics.classification_report(y_true=y_test, y_pred=predictions))"
   ]
  },
  {
   "cell_type": "code",
   "execution_count": null,
   "metadata": {},
   "outputs": [],
   "source": []
  }
 ],
 "metadata": {
  "kernelspec": {
   "display_name": "Python 3",
   "language": "python",
   "name": "python3"
  },
  "language_info": {
   "codemirror_mode": {
    "name": "ipython",
    "version": 3
   },
   "file_extension": ".py",
   "mimetype": "text/x-python",
   "name": "python",
   "nbconvert_exporter": "python",
   "pygments_lexer": "ipython3",
   "version": "3.6.7"
  }
 },
 "nbformat": 4,
 "nbformat_minor": 2
}
